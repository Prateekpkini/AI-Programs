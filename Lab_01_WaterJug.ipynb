{
 "cells": [
  {
   "cell_type": "code",
   "execution_count": 59,
   "id": "3170c205-ff8e-4191-bf22-e3678a16425d",
   "metadata": {},
   "outputs": [
    {
     "name": "stdin",
     "output_type": "stream",
     "text": [
      "Enter the capacity of the first jug: 9\n",
      "Enter the capacity of the second jug: 2\n",
      "Enter the target litres of water: 4\n"
     ]
    },
    {
     "name": "stdout",
     "output_type": "stream",
     "text": [
      "Jug1 Capacity:9Jug2 Capacity:2\n",
      "      JUG1:9     |       JUG2:0\n",
      "      JUG1:7     |       JUG2:2\n",
      "      JUG1:7     |       JUG2:0\n",
      "      JUG1:5     |       JUG2:2\n",
      "      JUG1:5     |       JUG2:0\n",
      "      JUG1:3     |       JUG2:2\n",
      "      JUG1:3     |       JUG2:0\n",
      "      JUG1:1     |       JUG2:2\n",
      "      JUG1:1     |       JUG2:0\n",
      "      JUG1:0     |       JUG2:1\n",
      "      JUG1:9     |       JUG2:1\n",
      "      JUG1:8     |       JUG2:2\n",
      "      JUG1:8     |       JUG2:0\n",
      "      JUG1:6     |       JUG2:2\n",
      "      JUG1:6     |       JUG2:0\n",
      "      JUG1:4     |       JUG2:2\n"
     ]
    }
   ],
   "source": [
    "def gcd(a,b):\n",
    "    while b:\n",
    "        a,b=b,a%b\n",
    "    return a\n",
    "def display_state(jug1,jug2):\n",
    "    print(f\"{'JUG1:':>11}{jug1:<6}|{'JUG2:':>12}{jug2}\")\n",
    "def pour_water(jug1,jug2,capacity1,capacity2):\n",
    "    pour_amount=min(jug1,capacity2-jug2)\n",
    "    jug1-=pour_amount\n",
    "    jug2+=pour_amount\n",
    "    return jug1,jug2\n",
    "def water_jug_solution(capacity1,capacity2,target_amount):\n",
    "    jug1=0\n",
    "    jug2=0\n",
    "    print(f\"Jug1 Capacity:{capacity1}Jug2 Capacity:{capacity2}\")\n",
    "    while jug1!=target_amount and jug2!=target_amount:\n",
    "        if jug1==0:\n",
    "            jug1=capacity1\n",
    "        elif jug2==capacity2:\n",
    "            jug2=0\n",
    "        else:\n",
    "            jug1,jug2=pour_water(jug1,jug2,capacity1,capacity2)\n",
    "        display_state(jug1,jug2)\n",
    "first_jug=int(input(\"Enter the capacity of the first jug:\"))\n",
    "second_jug=int(input(\"Enter the capacity of the second jug:\"))\n",
    "target_amount=int(input(\"Enter the target litres of water:\"))\n",
    "\n",
    "if target_amount<first_jug or target_amount<second_jug:\n",
    "    if target_amount%gcd(first_jug,second_jug)==0:\n",
    "        water_jug_solution(first_jug,second_jug,target_amount)\n",
    "    else:\n",
    "        print(\"This is not possible....\")\n",
    "else:\n",
    "    print(\"This is not possible...\")"
   ]
  },
  {
   "cell_type": "code",
   "execution_count": null,
   "id": "18938c74-6b2c-4578-a9fb-c11ef5e04c4d",
   "metadata": {},
   "outputs": [],
   "source": []
  }
 ],
 "metadata": {
  "kernelspec": {
   "display_name": "Python 3 (ipykernel)",
   "language": "python",
   "name": "python3"
  },
  "language_info": {
   "codemirror_mode": {
    "name": "ipython",
    "version": 3
   },
   "file_extension": ".py",
   "mimetype": "text/x-python",
   "name": "python",
   "nbconvert_exporter": "python",
   "pygments_lexer": "ipython3",
   "version": "3.11.7"
  }
 },
 "nbformat": 4,
 "nbformat_minor": 5
}
