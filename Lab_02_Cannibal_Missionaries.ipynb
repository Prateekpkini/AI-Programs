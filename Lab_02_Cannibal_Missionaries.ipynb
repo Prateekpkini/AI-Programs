{
 "cells": [
  {
   "cell_type": "code",
   "execution_count": 1,
   "id": "da4c6668-5a01-442c-96bf-5207572bb6b9",
   "metadata": {},
   "outputs": [
    {
     "ename": "SyntaxError",
     "evalue": "incomplete input (419473425.py, line 32)",
     "output_type": "error",
     "traceback": [
      "\u001b[1;36m  Cell \u001b[1;32mIn[1], line 32\u001b[1;36m\u001b[0m\n\u001b[1;33m    for i in range(0,lC):\u001b[0m\n\u001b[1;37m                         ^\u001b[0m\n\u001b[1;31mSyntaxError\u001b[0m\u001b[1;31m:\u001b[0m incomplete input\n"
     ]
    }
   ],
   "source": [
    "print(\"\\t Game Starts\")\n",
    "\n",
    "\n",
    "lM=3\n",
    "lC=3\n",
    "rM=0\n",
    "rC=0\n",
    "userM=0\n",
    "userC=0\n",
    "k-0\n",
    "print(\"\\nMMMCCC| ---|\\n\")\n",
    "try:\n",
    "    while(True):\n",
    "        while(True):\n",
    "            print(\"Left side->right side right travel\")\n",
    "            uM=int(input(\"Enter number of Missionaries travel=>\"))\n",
    "            uC=int(input(\"Enter number of Cannibals travel=>\"))\n",
    "            if((uM==0) and (uC==0)):\n",
    "                print(\"Empty travel not possible\")\n",
    "                print(\"Re-enter:\")\n",
    "            elif(((uM+uC)<=2) and((lM-uM)>=0) and ((lC-uC)>=0)):\n",
    "                break\n",
    "            else:\n",
    "                print(\"Wrong input re-enter:\")\n",
    "        lM=(lM-uM)\n",
    "        lC=(lC-uC)\n",
    "        rM+=uM\n",
    "        rC+=uC\n",
    "        print(\"\\n\")\n",
    "        for i in range(0,lM):\n",
    "            print(\"M\",end=\"\")\n",
    "        for i in range(0,lC):"
   ]
  },
  {
   "cell_type": "code",
   "execution_count": 5,
   "id": "8a36836b-b543-4aa1-8ae3-40b8797710b3",
   "metadata": {},
   "outputs": [
    {
     "name": "stdout",
     "output_type": "stream",
     "text": [
      "\n",
      "\n",
      "\tGame Start\n",
      "Now the task is to move all of them to the right side of the river\n",
      "rules:\n",
      "1. The boat can carry at most two people\n",
      "2. If cannibals' number is greater than missionaries,\n",
      "then the cannibals would eat the missionaries\n",
      "3. The boat cannot cross the river by itself with no people\n",
      "on board\n",
      "\n",
      "M M M C C C | --- | \n",
      "\n",
      "Left side -> right side river travel\n"
     ]
    },
    {
     "name": "stdin",
     "output_type": "stream",
     "text": [
      "Enter number of Missionaries to travel =>  1\n",
      "Enter number of Cannibals to travel =>  1\n"
     ]
    },
    {
     "name": "stdout",
     "output_type": "stream",
     "text": [
      "\n",
      "\n",
      "M M C C | --> | M C \n",
      "\n",
      "Right side -> Left side river travel\n"
     ]
    },
    {
     "name": "stdin",
     "output_type": "stream",
     "text": [
      "Enter number of Missionaries to travel =>  1\n",
      "Enter number of Cannibals to travel =>  1\n"
     ]
    },
    {
     "name": "stdout",
     "output_type": "stream",
     "text": [
      "\n",
      "\n",
      "M M M C C C | <-- | \n",
      "\n",
      "Left side -> right side river travel\n"
     ]
    },
    {
     "name": "stdin",
     "output_type": "stream",
     "text": [
      "Enter number of Missionaries to travel =>  1\n",
      "Enter number of Cannibals to travel =>  1\n"
     ]
    },
    {
     "name": "stdout",
     "output_type": "stream",
     "text": [
      "\n",
      "\n",
      "M M C C | --> | M C \n",
      "\n",
      "Right side -> Left side river travel\n"
     ]
    },
    {
     "name": "stdin",
     "output_type": "stream",
     "text": [
      "Enter number of Missionaries to travel =>  1\n",
      "Enter number of Cannibals to travel =>  1\n"
     ]
    },
    {
     "name": "stdout",
     "output_type": "stream",
     "text": [
      "\n",
      "\n",
      "M M M C C C | <-- | \n",
      "\n",
      "Left side -> right side river travel\n"
     ]
    },
    {
     "name": "stdin",
     "output_type": "stream",
     "text": [
      "Enter number of Missionaries to travel =>  1\n",
      "Enter number of Cannibals to travel =>  1\n"
     ]
    },
    {
     "name": "stdout",
     "output_type": "stream",
     "text": [
      "\n",
      "\n",
      "M M C C | --> | M C \n",
      "\n",
      "Right side -> Left side river travel\n"
     ]
    },
    {
     "name": "stdin",
     "output_type": "stream",
     "text": [
      "Enter number of Missionaries to travel =>  1\n",
      "Enter number of Cannibals to travel =>  1\n"
     ]
    },
    {
     "name": "stdout",
     "output_type": "stream",
     "text": [
      "\n",
      "\n",
      "M M M C C C | <-- | \n",
      "\n",
      "Left side -> right side river travel\n"
     ]
    },
    {
     "name": "stdin",
     "output_type": "stream",
     "text": [
      "Enter number of Missionaries to travel =>  1\n",
      "Enter number of Cannibals to travel =>  1\n"
     ]
    },
    {
     "name": "stdout",
     "output_type": "stream",
     "text": [
      "\n",
      "\n",
      "M M C C | --> | M C \n",
      "\n",
      "Right side -> Left side river travel\n"
     ]
    },
    {
     "name": "stdin",
     "output_type": "stream",
     "text": [
      "Enter number of Missionaries to travel =>  1\n",
      "Enter number of Cannibals to travel =>  1\n"
     ]
    },
    {
     "name": "stdout",
     "output_type": "stream",
     "text": [
      "\n",
      "\n",
      "M M M C C C | <-- | \n",
      "\n",
      "Left side -> right side river travel\n"
     ]
    },
    {
     "name": "stdin",
     "output_type": "stream",
     "text": [
      "Enter number of Missionaries to travel =>  1\n",
      "Enter number of Cannibals to travel =>  1\n"
     ]
    },
    {
     "name": "stdout",
     "output_type": "stream",
     "text": [
      "\n",
      "\n",
      "M M C C | --> | M C \n",
      "\n",
      "Right side -> Left side river travel\n"
     ]
    },
    {
     "name": "stdin",
     "output_type": "stream",
     "text": [
      "Enter number of Missionaries to travel =>  1\n",
      "Enter number of Cannibals to travel =>  1\n"
     ]
    },
    {
     "name": "stdout",
     "output_type": "stream",
     "text": [
      "\n",
      "\n",
      "M M M C C C | <-- | \n",
      "\n",
      "Left side -> right side river travel\n"
     ]
    },
    {
     "name": "stdin",
     "output_type": "stream",
     "text": [
      "Enter number of Missionaries to travel =>  1\n",
      "Enter number of Cannibals to travel =>  1\n"
     ]
    },
    {
     "name": "stdout",
     "output_type": "stream",
     "text": [
      "\n",
      "\n",
      "M M C C | --> | M C \n",
      "\n",
      "Right side -> Left side river travel\n"
     ]
    },
    {
     "name": "stdin",
     "output_type": "stream",
     "text": [
      "Enter number of Missionaries to travel =>  1\n",
      "Enter number of Cannibals to travel =>  1\n"
     ]
    },
    {
     "name": "stdout",
     "output_type": "stream",
     "text": [
      "\n",
      "\n",
      "M M M C C C | <-- | \n",
      "\n",
      "Left side -> right side river travel\n"
     ]
    },
    {
     "name": "stdin",
     "output_type": "stream",
     "text": [
      "Enter number of Missionaries to travel =>  1\n",
      "Enter number of Cannibals to travel =>  1\n"
     ]
    },
    {
     "name": "stdout",
     "output_type": "stream",
     "text": [
      "\n",
      "\n",
      "M M C C | --> | M C \n",
      "\n",
      "Right side -> Left side river travel\n"
     ]
    },
    {
     "name": "stdin",
     "output_type": "stream",
     "text": [
      "Enter number of Missionaries to travel =>  1\n",
      "Enter number of Cannibals to travel =>  1\n"
     ]
    },
    {
     "name": "stdout",
     "output_type": "stream",
     "text": [
      "\n",
      "\n",
      "M M M C C C | <-- | \n",
      "\n",
      "Left side -> right side river travel\n"
     ]
    },
    {
     "name": "stdin",
     "output_type": "stream",
     "text": [
      "Enter number of Missionaries to travel =>  1\n",
      "Enter number of Cannibals to travel =>  0\n"
     ]
    },
    {
     "name": "stdout",
     "output_type": "stream",
     "text": [
      "\n",
      "\n",
      "M M C C C | --> | M \n",
      "\n",
      "Cannibals eat missionaries:\n",
      "You lost the game\n"
     ]
    }
   ],
   "source": [
    "# Python program to illustrate Missionaries & Cannibals Problem\n",
    "\n",
    "print(\"\\n\")\n",
    "print(\"\\tGame Start\\nNow the task is to move all of them to the right side of the river\")\n",
    "print('''rules:\\n1. The boat can carry at most two people\\n2. If cannibals' number is greater than missionaries,\n",
    "then the cannibals would eat the missionaries\\n3. The boat cannot cross the river by itself with no people\n",
    "on board''')\n",
    "\n",
    "lM = 3  # Left side Missionaries number\n",
    "lC = 3  # Left side Cannibals number\n",
    "rM = 0  # Right side Missionaries number\n",
    "rC = 0  # Right side Cannibals number\n",
    "userM = 0  # User input for number of missionaries for right to left side travel\n",
    "userC = 0  # User input for number of cannibals for right to left travel\n",
    "k = 0  # Move counter\n",
    "\n",
    "print(\"\\nM M M C C C | --- | \\n\")\n",
    "\n",
    "try:\n",
    "    while True:\n",
    "        while True:\n",
    "            print(\"Left side -> right side river travel\")\n",
    "            uM = int(input(\"Enter number of Missionaries to travel => \"))\n",
    "            uC = int(input(\"Enter number of Cannibals to travel => \"))\n",
    "\n",
    "            if uM == 0 and uC == 0:\n",
    "                print(\"Empty travel not possible. Re-enter: \")\n",
    "            elif (uM + uC) <= 2 and (lM - uM) >= 0 and (lC - uC) >= 0:\n",
    "                break\n",
    "            else:\n",
    "                print(\"Wrong input, please re-enter.\")\n",
    "\n",
    "        # Update the left and right side counts\n",
    "        lM -= uM\n",
    "        lC -= uC\n",
    "        rM += uM\n",
    "        rC += uC\n",
    "\n",
    "        print(\"\\n\")\n",
    "        for i in range(0, lM):\n",
    "            print(\"M \", end=\"\")\n",
    "        for i in range(0, lC):\n",
    "            print(\"C \", end=\"\")\n",
    "        print(\"| --> | \", end=\"\")\n",
    "        for i in range(0, rM):\n",
    "            print(\"M \", end=\"\")\n",
    "        for i in range(0, rC):\n",
    "            print(\"C \", end=\"\")\n",
    "        print(\"\\n\")\n",
    "\n",
    "        k += 1\n",
    "\n",
    "        # Check for game loss condition (Cannibals eat missionaries)\n",
    "        if ((lC == 3 and lM == 1) or (lC == 3 and lM == 2) or (lC == 2 and lM == 1) or\n",
    "            (rC == 3 and rM == 1) or (rC == 3 and rM == 2) or (rC == 2 and rM == 1)):\n",
    "            print(\"Cannibals eat missionaries:\\nYou lost the game\")\n",
    "            break\n",
    "\n",
    "        # Check if the game is won\n",
    "        if (rM + rC) == 6:\n",
    "            print(\"You won the game : \\n\\tCongrats\")\n",
    "            print(\"Total attempts:\", k)\n",
    "            break\n",
    "\n",
    "        # Now for Right side -> Left side river travel\n",
    "        while True:\n",
    "            print(\"Right side -> Left side river travel\")\n",
    "            userM = int(input(\"Enter number of Missionaries to travel => \"))\n",
    "            userC = int(input(\"Enter number of Cannibals to travel => \"))\n",
    "\n",
    "            if userM == 0 and userC == 0:\n",
    "                print(\"Empty travel not possible. Re-enter: \")\n",
    "            elif (userM + userC) <= 2 and (rM - userM) >= 0 and (rC - userC) >= 0:\n",
    "                break\n",
    "            else:\n",
    "                print(\"Wrong input, please re-enter.\")\n",
    "\n",
    "        # Update the left and right side counts\n",
    "        lM += userM\n",
    "        lC += userC\n",
    "        rM -= userM\n",
    "        rC -= userC\n",
    "\n",
    "        print(\"\\n\")\n",
    "        for i in range(0, lM):\n",
    "            print(\"M \", end=\"\")\n",
    "        for i in range(0, lC):\n",
    "            print(\"C \", end=\"\")\n",
    "        print(\"| <-- | \", end=\"\")\n",
    "        for i in range(0, rM):\n",
    "            print(\"M \", end=\"\")\n",
    "        for i in range(0, rC):\n",
    "            print(\"C \", end=\"\")\n",
    "        print(\"\\n\")\n",
    "\n",
    "        k += 1\n",
    "\n",
    "        # Check for game loss condition (Cannibals eat missionaries)\n",
    "        if ((lC == 3 and lM == 1) or (lC == 3 and lM == 2) or (lC == 2 and lM == 1) or\n",
    "            (rC == 3 and rM == 1) or (rC == 3 and rM == 2) or (rC == 2 and rM == 1)):\n",
    "            print(\"Cannibals eat missionaries:\\nYou lost the game\")\n",
    "            break\n",
    "\n",
    "except EOFError as e:\n",
    "    print(\"\\nInvalid input, please retry !!\")"
   ]
  },
  {
   "cell_type": "code",
   "execution_count": 9,
   "id": "576017b3-21f5-448e-89ca-429721b7d733",
   "metadata": {},
   "outputs": [
    {
     "name": "stdout",
     "output_type": "stream",
     "text": [
      "\n",
      "\n",
      "\tGame Start\n",
      "Now the task is to move all of them to the right side of the river\n",
      "rules:\n",
      "1. The boat can carry at most two people\n",
      "2. If cannibals' number is greater than missionaries, then the cannibals would eat the missionaries\n",
      "3. The boat cannot cross the river by itself with no people on board\n",
      "\n",
      "M M M C C C | --- | \n",
      "\n",
      "Left side -> right side river travel\n"
     ]
    },
    {
     "name": "stdin",
     "output_type": "stream",
     "text": [
      "Enter number of Missionaries to travel =>  1\n",
      "Enter number of Cannibals to travel =>  1\n"
     ]
    },
    {
     "name": "stdout",
     "output_type": "stream",
     "text": [
      "\n",
      "\n",
      "M M C C | --> | M C \n",
      "\n",
      "Right side -> Left side river travel\n"
     ]
    },
    {
     "name": "stdin",
     "output_type": "stream",
     "text": [
      "Enter number of Missionaries to travel =>  1\n",
      "Enter number of Cannibals to travel =>  0\n"
     ]
    },
    {
     "name": "stdout",
     "output_type": "stream",
     "text": [
      "\n",
      "\n",
      "M M M C C | <-- | C \n",
      "\n",
      "Left side -> right side river travel\n"
     ]
    },
    {
     "name": "stdin",
     "output_type": "stream",
     "text": [
      "Enter number of Missionaries to travel =>  0\n",
      "Enter number of Cannibals to travel =>  2\n"
     ]
    },
    {
     "name": "stdout",
     "output_type": "stream",
     "text": [
      "\n",
      "\n",
      "M M M | --> | C C C \n",
      "\n",
      "Right side -> Left side river travel\n"
     ]
    },
    {
     "name": "stdin",
     "output_type": "stream",
     "text": [
      "Enter number of Missionaries to travel =>  0\n",
      "Enter number of Cannibals to travel =>  1\n"
     ]
    },
    {
     "name": "stdout",
     "output_type": "stream",
     "text": [
      "\n",
      "\n",
      "M M M C | <-- | C C \n",
      "\n",
      "Left side -> right side river travel\n"
     ]
    },
    {
     "name": "stdin",
     "output_type": "stream",
     "text": [
      "Enter number of Missionaries to travel =>  1\n",
      "Enter number of Cannibals to travel =>  3\n"
     ]
    },
    {
     "name": "stdout",
     "output_type": "stream",
     "text": [
      "Wrong input, please re-enter.\n",
      "Left side -> right side river travel\n"
     ]
    },
    {
     "name": "stdin",
     "output_type": "stream",
     "text": [
      "Enter number of Missionaries to travel =>  2\n",
      "Enter number of Cannibals to travel =>  0\n"
     ]
    },
    {
     "name": "stdout",
     "output_type": "stream",
     "text": [
      "\n",
      "\n",
      "M C | --> | M M C C \n",
      "\n",
      "Right side -> Left side river travel\n"
     ]
    },
    {
     "name": "stdin",
     "output_type": "stream",
     "text": [
      "Enter number of Missionaries to travel =>  1\n",
      "Enter number of Cannibals to travel =>  1\n"
     ]
    },
    {
     "name": "stdout",
     "output_type": "stream",
     "text": [
      "\n",
      "\n",
      "M M C C | <-- | M C \n",
      "\n",
      "Left side -> right side river travel\n"
     ]
    },
    {
     "name": "stdin",
     "output_type": "stream",
     "text": [
      "Enter number of Missionaries to travel =>  2\n",
      "Enter number of Cannibals to travel =>  0\n"
     ]
    },
    {
     "name": "stdout",
     "output_type": "stream",
     "text": [
      "\n",
      "\n",
      "C C | --> | M M M C \n",
      "\n",
      "Right side -> Left side river travel\n"
     ]
    },
    {
     "name": "stdin",
     "output_type": "stream",
     "text": [
      "Enter number of Missionaries to travel =>  0\n",
      "Enter number of Cannibals to travel =>  1\n"
     ]
    },
    {
     "name": "stdout",
     "output_type": "stream",
     "text": [
      "\n",
      "\n",
      "C C C | <-- | M M M \n",
      "\n",
      "Left side -> right side river travel\n"
     ]
    },
    {
     "name": "stdin",
     "output_type": "stream",
     "text": [
      "Enter number of Missionaries to travel =>  0\n",
      "Enter number of Cannibals to travel =>  2\n"
     ]
    },
    {
     "name": "stdout",
     "output_type": "stream",
     "text": [
      "\n",
      "\n",
      "C | --> | M M M C C \n",
      "\n",
      "Right side -> Left side river travel\n"
     ]
    },
    {
     "name": "stdin",
     "output_type": "stream",
     "text": [
      "Enter number of Missionaries to travel =>  0\n",
      "Enter number of Cannibals to travel =>  1\n"
     ]
    },
    {
     "name": "stdout",
     "output_type": "stream",
     "text": [
      "\n",
      "\n",
      "C C | <-- | M M M C \n",
      "\n",
      "Left side -> right side river travel\n"
     ]
    },
    {
     "name": "stdin",
     "output_type": "stream",
     "text": [
      "Enter number of Missionaries to travel =>  0\n",
      "Enter number of Cannibals to travel =>  2\n"
     ]
    },
    {
     "name": "stdout",
     "output_type": "stream",
     "text": [
      "\n",
      "\n",
      "| --> | M M M C C C \n",
      "\n",
      "You won the game : \n",
      "\tCongrats\n",
      "Total attempts: 11\n"
     ]
    }
   ],
   "source": [
    "# Python program to illustrate Missionaries & Cannibals Problem\n",
    "\n",
    "print(\"\\n\")\n",
    "print(\"\\tGame Start\\nNow the task is to move all of them to the right side of the river\")\n",
    "print('''rules:\n",
    "1. The boat can carry at most two people\n",
    "2. If cannibals' number is greater than missionaries, then the cannibals would eat the missionaries\n",
    "3. The boat cannot cross the river by itself with no people on board''')\n",
    "\n",
    "lM = 3  # Left side Missionaries number\n",
    "lC = 3  # Left side Cannibals number\n",
    "rM = 0  # Right side Missionaries number\n",
    "rC = 0  # Right side Cannibals number\n",
    "k = 0  # Move counter\n",
    "\n",
    "print(\"\\nM M M C C C | --- | \\n\")\n",
    "\n",
    "try:\n",
    "    while True:\n",
    "        while True:\n",
    "            # Right side -> Left side river travel\n",
    "            print(\"Left side -> right side river travel\")\n",
    "            uM = int(input(\"Enter number of Missionaries to travel => \"))\n",
    "            uC = int(input(\"Enter number of Cannibals to travel => \"))\n",
    "\n",
    "            # Validate the input\n",
    "            if uM == 0 and uC == 0:\n",
    "                print(\"Empty travel not possible. Re-enter: \")\n",
    "            elif (uM + uC) <= 2 and (lM - uM) >= 0 and (lC - uC) >= 0:\n",
    "                break\n",
    "            else:\n",
    "                print(\"Wrong input, please re-enter.\")\n",
    "\n",
    "        # Update the left and right side counts\n",
    "        lM -= uM\n",
    "        lC -= uC\n",
    "        rM += uM\n",
    "        rC += uC\n",
    "\n",
    "        # Display the current situation\n",
    "        print(\"\\n\")\n",
    "        for i in range(0, lM):\n",
    "            print(\"M \", end=\"\")\n",
    "        for i in range(0, lC):\n",
    "            print(\"C \", end=\"\")\n",
    "        print(\"| --> | \", end=\"\")\n",
    "        for i in range(0, rM):\n",
    "            print(\"M \", end=\"\")\n",
    "        for i in range(0, rC):\n",
    "            print(\"C \", end=\"\")\n",
    "        print(\"\\n\")\n",
    "\n",
    "        k += 1\n",
    "\n",
    "        # Check for game loss condition (Cannibals eat missionaries)\n",
    "        if ((lC == 3 and lM == 1) or (lC == 3 and lM == 2) or (lC == 2 and lM == 1) or\n",
    "            (rC == 3 and rM == 1) or (rC == 3 and rM == 2) or (rC == 2 and rM == 1)):\n",
    "            print(\"Cannibals eat missionaries:\\nYou lost the game\")\n",
    "            break\n",
    "\n",
    "        # Check if the game is won\n",
    "        if (rM + rC) == 6:\n",
    "            print(\"You won the game : \\n\\tCongrats\")\n",
    "            print(\"Total attempts:\", k)\n",
    "            break\n",
    "\n",
    "        # Now for Right side -> Left side river travel\n",
    "        while True:\n",
    "            print(\"Right side -> Left side river travel\")\n",
    "            userM = int(input(\"Enter number of Missionaries to travel => \"))\n",
    "            userC = int(input(\"Enter number of Cannibals to travel => \"))\n",
    "\n",
    "            # Validate the input for the reverse journey\n",
    "            if userM == 0 and userC == 0:\n",
    "                print(\"Empty travel not possible. Re-enter: \")\n",
    "            elif (userM + userC) <= 2 and (rM - userM) >= 0 and (rC - userC) >= 0:\n",
    "                break\n",
    "            else:\n",
    "                print(\"Wrong input, please re-enter.\")\n",
    "\n",
    "        # Update the left and right side counts for the reverse trip\n",
    "        lM += userM\n",
    "        lC += userC\n",
    "        rM -= userM\n",
    "        rC -= userC\n",
    "\n",
    "        # Display the current situation after the reverse trip\n",
    "        print(\"\\n\")\n",
    "        for i in range(0, lM):\n",
    "            print(\"M \", end=\"\")\n",
    "        for i in range(0, lC):\n",
    "            print(\"C \", end=\"\")\n",
    "        print(\"| <-- | \", end=\"\")\n",
    "        for i in range(0, rM):\n",
    "            print(\"M \", end=\"\")\n",
    "        for i in range(0, rC):\n",
    "            print(\"C \", end=\"\")\n",
    "        print(\"\\n\")\n",
    "\n",
    "        k += 1\n",
    "\n",
    "        # Check for game loss condition (Cannibals eat missionaries)\n",
    "        if ((lC == 3 and lM == 1) or (lC == 3 and lM == 2) or (lC == 2 and lM == 1) or\n",
    "            (rC == 3 and rM == 1) or (rC == 3 and rM == 2) or (rC == 2 and rM == 1)):\n",
    "            print(\"Cannibals eat missionaries:\\nYou lost the game\")\n",
    "            break\n",
    "\n",
    "except EOFError as e:\n",
    "    print(\"\\nInvalid input, please retry !!\")\n"
   ]
  },
  {
   "cell_type": "code",
   "execution_count": 11,
   "id": "3b9c0bd5-b7ee-451f-84ca-646378bd800d",
   "metadata": {},
   "outputs": [
    {
     "name": "stdout",
     "output_type": "stream",
     "text": [
      "\n",
      "\n",
      "\tGame Start\n",
      "Now the task is to move all of them to the right side of the river\n",
      "rules:\n",
      "1. The boat can carry at most two people\n",
      "2. If cannibals' number is greater than missionaries, then the cannibals would eat the missionaries\n",
      "3. The boat cannot cross the river by itself with no people on board\n",
      "\n",
      "M M M C C C | --- | \n",
      "\n",
      "Left side -> right side river travel\n"
     ]
    },
    {
     "name": "stdin",
     "output_type": "stream",
     "text": [
      "Enter number of Missionaries to travel =>  0\n",
      "Enter number of Cannibals to travel =>  0\n"
     ]
    },
    {
     "name": "stdout",
     "output_type": "stream",
     "text": [
      "Empty travel not possible. Re-enter: \n",
      "Left side -> right side river travel\n"
     ]
    },
    {
     "name": "stdin",
     "output_type": "stream",
     "text": [
      "Enter number of Missionaries to travel =>  1\n",
      "Enter number of Cannibals to travel =>  1\n"
     ]
    },
    {
     "name": "stdout",
     "output_type": "stream",
     "text": [
      "\n",
      "\n",
      "M M C C | --> | M C \n",
      "\n",
      "Right side -> Left side river travel\n"
     ]
    },
    {
     "name": "stdin",
     "output_type": "stream",
     "text": [
      "Enter number of Missionaries to travel =>  2\n",
      "Enter number of Cannibals to travel =>  2\n"
     ]
    },
    {
     "name": "stdout",
     "output_type": "stream",
     "text": [
      "Wrong input, please re-enter.\n",
      "Right side -> Left side river travel\n"
     ]
    },
    {
     "name": "stdin",
     "output_type": "stream",
     "text": [
      "Enter number of Missionaries to travel =>  0\n",
      "Enter number of Cannibals to travel =>  1\n"
     ]
    },
    {
     "name": "stdout",
     "output_type": "stream",
     "text": [
      "\n",
      "\n",
      "M M C C C | <-- | M \n",
      "\n",
      "Cannibals eat missionaries:\n",
      "You lost the game\n"
     ]
    }
   ],
   "source": [
    "# Python program to illustrate Missionaries & Cannibals Problem\n",
    "\n",
    "print(\"\\n\")\n",
    "print(\"\\tGame Start\\nNow the task is to move all of them to the right side of the river\")\n",
    "print('''rules:\n",
    "1. The boat can carry at most two people\n",
    "2. If cannibals' number is greater than missionaries, then the cannibals would eat the missionaries\n",
    "3. The boat cannot cross the river by itself with no people on board''')\n",
    "\n",
    "lM = 3  # Left side Missionaries number\n",
    "lC = 3  # Left side Cannibals number\n",
    "rM = 0  # Right side Missionaries number\n",
    "rC = 0  # Right side Cannibals number\n",
    "k = 0  # Move counter\n",
    "\n",
    "print(\"\\nM M M C C C | --- | \\n\")\n",
    "\n",
    "try:\n",
    "    while True:\n",
    "        while True:\n",
    "            # Right side -> Left side river travel\n",
    "            print(\"Left side -> right side river travel\")\n",
    "            uM = int(input(\"Enter number of Missionaries to travel => \"))\n",
    "            uC = int(input(\"Enter number of Cannibals to travel => \"))\n",
    "\n",
    "            # Validate the input\n",
    "            if uM == 0 and uC == 0:\n",
    "                print(\"Empty travel not possible. Re-enter: \")\n",
    "            elif (uM + uC) <= 2 and (lM - uM) >= 0 and (lC - uC) >= 0:\n",
    "                break\n",
    "            else:\n",
    "                print(\"Wrong input, please re-enter.\")\n",
    "\n",
    "        # Update the left and right side counts\n",
    "        lM -= uM\n",
    "        lC -= uC\n",
    "        rM += uM\n",
    "        rC += uC\n",
    "\n",
    "        # Display the current situation\n",
    "        print(\"\\n\")\n",
    "        for i in range(0, lM):\n",
    "            print(\"M \", end=\"\")\n",
    "        for i in range(0, lC):\n",
    "            print(\"C \", end=\"\")\n",
    "        print(\"| --> | \", end=\"\")\n",
    "        for i in range(0, rM):\n",
    "            print(\"M \", end=\"\")\n",
    "        for i in range(0, rC):\n",
    "            print(\"C \", end=\"\")\n",
    "        print(\"\\n\")\n",
    "\n",
    "        k += 1\n",
    "\n",
    "        # Check for game loss condition (Cannibals eat missionaries)\n",
    "        if ((lC == 3 and lM == 1) or (lC == 3 and lM == 2) or (lC == 2 and lM == 1) or\n",
    "            (rC == 3 and rM == 1) or (rC == 3 and rM == 2) or (rC == 2 and rM == 1)):\n",
    "            print(\"Cannibals eat missionaries:\\nYou lost the game\")\n",
    "            break\n",
    "\n",
    "        # Check if the game is won\n",
    "        if (rM + rC) == 6:\n",
    "            print(\"You won the game : \\n\\tCongrats\")\n",
    "            print(\"Total attempts:\", k)\n",
    "            break\n",
    "\n",
    "        # Now for Right side -> Left side river travel\n",
    "        while True:\n",
    "            print(\"Right side -> Left side river travel\")\n",
    "            userM = int(input(\"Enter number of Missionaries to travel => \"))\n",
    "            userC = int(input(\"Enter number of Cannibals to travel => \"))\n",
    "\n",
    "            # Validate the input for the reverse journey\n",
    "            if userM == 0 and userC == 0:\n",
    "                print(\"Empty travel not possible. Re-enter: \")\n",
    "            elif (userM + userC) <= 2 and (rM - userM) >= 0 and (rC - userC) >= 0:\n",
    "                break\n",
    "            else:\n",
    "                print(\"Wrong input, please re-enter.\")\n",
    "\n",
    "        # Update the left and right side counts for the reverse trip\n",
    "        lM += userM\n",
    "        lC += userC\n",
    "        rM -= userM\n",
    "        rC -= userC\n",
    "\n",
    "        # Display the current situation after the reverse trip\n",
    "        print(\"\\n\")\n",
    "        for i in range(0, lM):\n",
    "            print(\"M \", end=\"\")\n",
    "        for i in range(0, lC):\n",
    "            print(\"C \", end=\"\")\n",
    "        print(\"| <-- | \", end=\"\")\n",
    "        for i in range(0, rM):\n",
    "            print(\"M \", end=\"\")\n",
    "        for i in range(0, rC):\n",
    "            print(\"C \", end=\"\")\n",
    "        print(\"\\n\")\n",
    "\n",
    "        k += 1\n",
    "\n",
    "        # Check for game loss condition (Cannibals eat missionaries)\n",
    "        if ((lC == 3 and lM == 1) or (lC == 3 and lM == 2) or (lC == 2 and lM == 1) or\n",
    "            (rC == 3 and rM == 1) or (rC == 3 and rM == 2) or (rC == 2 and rM == 1)):\n",
    "            print(\"Cannibals eat missionaries:\\nYou lost the game\")\n",
    "            break\n",
    "\n",
    "except EOFError as e:\n",
    "    print(\"\\nInvalid input, please retry !!\")\n"
   ]
  },
  {
   "cell_type": "code",
   "execution_count": null,
   "id": "f10a2e3c-95bc-482c-880c-674632bedd71",
   "metadata": {},
   "outputs": [],
   "source": []
  }
 ],
 "metadata": {
  "kernelspec": {
   "display_name": "Python 3 (ipykernel)",
   "language": "python",
   "name": "python3"
  },
  "language_info": {
   "codemirror_mode": {
    "name": "ipython",
    "version": 3
   },
   "file_extension": ".py",
   "mimetype": "text/x-python",
   "name": "python",
   "nbconvert_exporter": "python",
   "pygments_lexer": "ipython3",
   "version": "3.11.7"
  }
 },
 "nbformat": 4,
 "nbformat_minor": 5
}
