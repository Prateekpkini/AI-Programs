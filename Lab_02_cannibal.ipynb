{
 "cells": [
  {
   "cell_type": "code",
   "execution_count": null,
   "id": "ae850003-1ce5-40c9-b0e8-8b9c56e30a2a",
   "metadata": {},
   "outputs": [
    {
     "name": "stdout",
     "output_type": "stream",
     "text": [
      "\n",
      "M M M C C C | --- | \n",
      "\n",
      "Left side -> Right side river travel\n"
     ]
    },
    {
     "name": "stdin",
     "output_type": "stream",
     "text": [
      "Enter number of Missionaries traveling:  0\n",
      "Enter number of Cannibals traveling:  0\n"
     ]
    },
    {
     "name": "stdout",
     "output_type": "stream",
     "text": [
      "Invalid input! The boat must carry 1 or 2 people.\n"
     ]
    },
    {
     "name": "stdin",
     "output_type": "stream",
     "text": [
      "Enter number of Missionaries traveling:  1\n",
      "Enter number of Cannibals traveling:  2\n"
     ]
    },
    {
     "name": "stdout",
     "output_type": "stream",
     "text": [
      "Invalid input! The boat must carry 1 or 2 people.\n"
     ]
    },
    {
     "name": "stdin",
     "output_type": "stream",
     "text": [
      "Enter number of Missionaries traveling:  1\n",
      "Enter number of Cannibals traveling:  1\n"
     ]
    },
    {
     "name": "stdout",
     "output_type": "stream",
     "text": [
      "\n",
      "M M C C | --- | M C \n",
      "\n",
      "Right side -> Left side river travel\n"
     ]
    },
    {
     "name": "stdin",
     "output_type": "stream",
     "text": [
      "Enter number of Missionaries traveling:  0\n",
      "Enter number of Cannibals traveling:  0\n"
     ]
    },
    {
     "name": "stdout",
     "output_type": "stream",
     "text": [
      "Invalid input! The boat must carry 1 or 2 people.\n"
     ]
    },
    {
     "name": "stdin",
     "output_type": "stream",
     "text": [
      "Enter number of Missionaries traveling:  -1\n",
      "Enter number of Cannibals traveling:  -1\n"
     ]
    },
    {
     "name": "stdout",
     "output_type": "stream",
     "text": [
      "Invalid input! The boat must carry 1 or 2 people.\n"
     ]
    },
    {
     "name": "stdin",
     "output_type": "stream",
     "text": [
      "Enter number of Missionaries traveling:  1\n",
      "Enter number of Cannibals traveling:  0\n"
     ]
    },
    {
     "name": "stdout",
     "output_type": "stream",
     "text": [
      "\n",
      "M M M C C | --- | C \n",
      "\n",
      "Left side -> Right side river travel\n"
     ]
    },
    {
     "name": "stdin",
     "output_type": "stream",
     "text": [
      "Enter number of Missionaries traveling:  3\n",
      "Enter number of Cannibals traveling:  3\n"
     ]
    },
    {
     "name": "stdout",
     "output_type": "stream",
     "text": [
      "Invalid input! The boat must carry 1 or 2 people.\n"
     ]
    },
    {
     "name": "stdin",
     "output_type": "stream",
     "text": [
      "Enter number of Missionaries traveling:  -10\n",
      "Enter number of Cannibals traveling:  01\n"
     ]
    },
    {
     "name": "stdout",
     "output_type": "stream",
     "text": [
      "Invalid input! The boat must carry 1 or 2 people.\n"
     ]
    },
    {
     "name": "stdin",
     "output_type": "stream",
     "text": [
      "Enter number of Missionaries traveling:  0\n",
      "Enter number of Cannibals traveling:  1\n"
     ]
    },
    {
     "name": "stdout",
     "output_type": "stream",
     "text": [
      "\n",
      "M M M C | --- | C C \n",
      "\n",
      "Right side -> Left side river travel\n"
     ]
    },
    {
     "name": "stdin",
     "output_type": "stream",
     "text": [
      "Enter number of Missionaries traveling:  0\n",
      "Enter number of Cannibals traveling:  1\n"
     ]
    },
    {
     "name": "stdout",
     "output_type": "stream",
     "text": [
      "\n",
      "M M M C C | --- | C \n",
      "\n",
      "Left side -> Right side river travel\n"
     ]
    },
    {
     "name": "stdin",
     "output_type": "stream",
     "text": [
      "Enter number of Missionaries traveling:  0\n",
      "Enter number of Cannibals traveling:  2\n"
     ]
    },
    {
     "name": "stdout",
     "output_type": "stream",
     "text": [
      "\n",
      "M M M | --- | C C C \n",
      "\n",
      "Right side -> Left side river travel\n"
     ]
    },
    {
     "name": "stdin",
     "output_type": "stream",
     "text": [
      "Enter number of Missionaries traveling:  0\n",
      "Enter number of Cannibals traveling:  0\n"
     ]
    },
    {
     "name": "stdout",
     "output_type": "stream",
     "text": [
      "Invalid input! The boat must carry 1 or 2 people.\n"
     ]
    },
    {
     "name": "stdin",
     "output_type": "stream",
     "text": [
      "Enter number of Missionaries traveling:  0\n",
      "Enter number of Cannibals traveling:  2\n"
     ]
    },
    {
     "name": "stdout",
     "output_type": "stream",
     "text": [
      "\n",
      "M M M C C | --- | C \n",
      "\n",
      "Left side -> Right side river travel\n"
     ]
    },
    {
     "name": "stdin",
     "output_type": "stream",
     "text": [
      "Enter number of Missionaries traveling:  0\n",
      "Enter number of Cannibals traveling:  1\n"
     ]
    },
    {
     "name": "stdout",
     "output_type": "stream",
     "text": [
      "\n",
      "M M M C | --- | C C \n",
      "\n",
      "Right side -> Left side river travel\n"
     ]
    },
    {
     "name": "stdin",
     "output_type": "stream",
     "text": [
      "Enter number of Missionaries traveling:  0\n",
      "Enter number of Cannibals traveling:  2\n"
     ]
    },
    {
     "name": "stdout",
     "output_type": "stream",
     "text": [
      "\n",
      "M M M C C C | --- | \n",
      "\n",
      "Left side -> Right side river travel\n"
     ]
    },
    {
     "name": "stdin",
     "output_type": "stream",
     "text": [
      "Enter number of Missionaries traveling:  0\n",
      "Enter number of Cannibals traveling:  0\n"
     ]
    },
    {
     "name": "stdout",
     "output_type": "stream",
     "text": [
      "Invalid input! The boat must carry 1 or 2 people.\n"
     ]
    },
    {
     "name": "stdin",
     "output_type": "stream",
     "text": [
      "Enter number of Missionaries traveling:  1\n",
      "Enter number of Cannibals traveling:  0\n"
     ]
    },
    {
     "name": "stdout",
     "output_type": "stream",
     "text": [
      "Cannibals eat missionaries: You lost the game!\n",
      "\n",
      "M M C C C | --- | M \n",
      "\n",
      "Right side -> Left side river travel\n"
     ]
    },
    {
     "name": "stdin",
     "output_type": "stream",
     "text": [
      "Enter number of Missionaries traveling:  1\n",
      "Enter number of Cannibals traveling:  0\n"
     ]
    },
    {
     "name": "stdout",
     "output_type": "stream",
     "text": [
      "\n",
      "M M M C C C | --- | \n",
      "\n",
      "Left side -> Right side river travel\n"
     ]
    },
    {
     "name": "stdin",
     "output_type": "stream",
     "text": [
      "Enter number of Missionaries traveling:  1\n",
      "Enter number of Cannibals traveling:  0\n"
     ]
    },
    {
     "name": "stdout",
     "output_type": "stream",
     "text": [
      "Cannibals eat missionaries: You lost the game!\n",
      "\n",
      "M M C C C | --- | M \n",
      "\n",
      "Right side -> Left side river travel\n"
     ]
    },
    {
     "name": "stdin",
     "output_type": "stream",
     "text": [
      "Enter number of Missionaries traveling:  0\n",
      "Enter number of Cannibals traveling:  1\n"
     ]
    },
    {
     "name": "stdout",
     "output_type": "stream",
     "text": [
      "Invalid move: Not enough people on the side to move!\n",
      "Cannibals eat missionaries: You lost the game!\n",
      "\n",
      "M M C C C C | --- | M \n",
      "\n",
      "Left side -> Right side river travel\n"
     ]
    }
   ],
   "source": [
    "lM = lC = 3  # M is Monk (Missionary) and C is Cannibal\n",
    "rM = rC = 0\n",
    "\n",
    "print(\"\\nM M M C C C | --- | \\n\")\n",
    "\n",
    "\n",
    "def get_input():\n",
    "    while True:\n",
    "        try:\n",
    "            uM = int(input(\"Enter number of Missionaries traveling: \"))\n",
    "            uC = int(input(\"Enter number of Cannibals traveling: \"))\n",
    "            if 0 < (uM + uC) <= 2:  # Boat should carry 1 or 2 people\n",
    "                return uM, uC\n",
    "            else:\n",
    "                print(\"Invalid input! The boat must carry 1 or 2 people.\")\n",
    "        except ValueError:\n",
    "            print(\"Invalid input! Enter integers only.\")\n",
    "\n",
    "\n",
    "def display():\n",
    "    print(\"\\n\" + \"M \" * lM + \"C \" * lC + \"| --- | \" + \"M \" * rM + \"C \" * rC + \"\\n\")\n",
    "\n",
    "\n",
    "def move(uM, uC, direction):\n",
    "    global lM, lC, rM, rC\n",
    "\n",
    "    if direction == \"LtoR\":\n",
    "        lM -= uM\n",
    "        lC -= uC\n",
    "        rM += uM\n",
    "        rC += uC\n",
    "    else:  # Right to Left move\n",
    "        lM += uM\n",
    "        lC += uC\n",
    "        rM -= uM\n",
    "        rC -= uC\n",
    "\n",
    "    # Check for invalid moves\n",
    "    if lM < 0 or lC < 0 or rM < 0 or rC < 0:\n",
    "        print(\"Invalid move: Not enough people on the side to move!\")\n",
    "        exit()\n",
    "\n",
    "    # Check if cannibals outnumber missionaries\n",
    "    if (lM > 0 and lM < lC) or (rM > 0 and rM < rC):\n",
    "        print(\"Cannibals eat missionaries: You lost the game!\")\n",
    "        exit()\n",
    "\n",
    "    # Winning condition\n",
    "    if rM + rC == 6:\n",
    "        print(\"You won the game!\")\n",
    "        exit()\n",
    "\n",
    "\n",
    "# Game loop\n",
    "while (rM + rC) < 6:\n",
    "    print(\"Left side -> Right side river travel\")\n",
    "    uM, uC = get_input()\n",
    "    move(uM, uC, \"LtoR\")\n",
    "    display()\n",
    "\n",
    "    if rM + rC == 6:  # If game is won, stop asking for return move\n",
    "        break\n",
    "\n",
    "    print(\"Right side -> Left side river travel\")\n",
    "    uM, uC = get_input()\n",
    "    move(uM, uC, \"RtoL\")\n",
    "    display()\n"
   ]
  },
  {
   "cell_type": "code",
   "execution_count": null,
   "id": "371de7ce-f09d-46a2-82d5-ae5db8b94939",
   "metadata": {},
   "outputs": [],
   "source": []
  }
 ],
 "metadata": {
  "kernelspec": {
   "display_name": "Python 3 (ipykernel)",
   "language": "python",
   "name": "python3"
  },
  "language_info": {
   "codemirror_mode": {
    "name": "ipython",
    "version": 3
   },
   "file_extension": ".py",
   "mimetype": "text/x-python",
   "name": "python",
   "nbconvert_exporter": "python",
   "pygments_lexer": "ipython3",
   "version": "3.11.7"
  }
 },
 "nbformat": 4,
 "nbformat_minor": 5
}
