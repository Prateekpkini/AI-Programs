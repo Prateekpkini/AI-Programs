{
 "cells": [
  {
   "cell_type": "code",
   "execution_count": 1,
   "id": "15915a86",
   "metadata": {},
   "outputs": [
    {
     "name": "stdout",
     "output_type": "stream",
     "text": [
      "The query 'S' is PROVED.\n"
     ]
    }
   ],
   "source": [
    "def negate_literal(literal):\n",
    "    \"\"\" Negate a literal by adding or removing the negation symbol '~' \"\"\"\n",
    "    if literal.startswith('~'):\n",
    "        return literal[1:]  # Remove negation\n",
    "    else:\n",
    "        return '~' + literal  # Add negation\n",
    "\n",
    "def resolve(clause1, clause2):\n",
    "    \"\"\" Resolve two clauses to derive a new clause \"\"\"\n",
    "    new_clause = []\n",
    "    resolved = False\n",
    "    # Copy literals from both clauses\n",
    "    for literal in clause1:\n",
    "        if negate_literal(literal) in clause2:\n",
    "            resolved = True\n",
    "        else:\n",
    "            new_clause.append(literal)\n",
    "    for literal in clause2:\n",
    "        if negate_literal(literal) not in clause1:\n",
    "            new_clause.append(literal)\n",
    "    if resolved:\n",
    "        return new_clause\n",
    "    else:\n",
    "        return None  # No resolution possible\n",
    "\n",
    "def resolution(propositional_kb, query):\n",
    "    \"\"\" Use resolution to prove or disprove a query using propositional logic \"\"\"\n",
    "    kb = propositional_kb[:]\n",
    "    kb.append([negate_literal(query)])  # Add negated query to knowledge base\n",
    "    while True:\n",
    "        new_clauses = []\n",
    "        n = len(kb)\n",
    "        resolved_pairs = set()  # Track resolved pairs to avoid redundant resolutions\n",
    "        for i in range(n):\n",
    "            for j in range(i + 1, n):\n",
    "                clause1 = kb[i]\n",
    "                clause2 = kb[j]\n",
    "                if (tuple(clause1), tuple(clause2)) not in resolved_pairs:\n",
    "                    resolved_pairs.add((tuple(clause1), tuple(clause2)))\n",
    "                    resolvent = resolve(clause1, clause2)\n",
    "                    if resolvent is None:\n",
    "                        continue  # No resolution possible for these clauses\n",
    "                    if len(resolvent) == 0:\n",
    "                        return True  # Empty clause (contradiction), query is proved\n",
    "                    if resolvent not in new_clauses:\n",
    "                        new_clauses.append(resolvent)\n",
    "        if all(clause in kb for clause in new_clauses):\n",
    "            return False  # No new clauses added, query cannot be proven\n",
    "        kb.extend(new_clauses)  # Add new clauses to the knowledge base\n",
    "\n",
    "# Example usage:\n",
    "if __name__ == \"__main__\":\n",
    "    # Example propositional knowledge base (list of clauses)\n",
    "    propositional_kb = [\n",
    "        ['~P', 'Q'],\n",
    "        ['P', '~Q', 'R'],\n",
    "        ['~R', 'S']\n",
    "    ]\n",
    "    # Example query to prove/disprove using resolution\n",
    "    query = 'S'\n",
    "    # Use resolution to prove or disprove the query\n",
    "    result = resolution(propositional_kb, query)\n",
    "    if result:\n",
    "        print(f\"The query '{query}' is PROVED.\")\n",
    "    else:\n",
    "        print(f\"The query '{query}' is DISPROVED.\")\n"
   ]
  },
  {
   "cell_type": "code",
   "execution_count": null,
   "id": "921ecbe3",
   "metadata": {},
   "outputs": [],
   "source": []
  }
 ],
 "metadata": {
  "kernelspec": {
   "display_name": "base",
   "language": "python",
   "name": "python3"
  },
  "language_info": {
   "codemirror_mode": {
    "name": "ipython",
    "version": 3
   },
   "file_extension": ".py",
   "mimetype": "text/x-python",
   "name": "python",
   "nbconvert_exporter": "python",
   "pygments_lexer": "ipython3",
   "version": "3.8.20"
  }
 },
 "nbformat": 4,
 "nbformat_minor": 5
}
