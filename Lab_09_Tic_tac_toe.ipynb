{
 "cells": [
  {
   "cell_type": "code",
   "execution_count": 5,
   "id": "39001181-a3f7-4339-94fc-4e56902b4fec",
   "metadata": {},
   "outputs": [
    {
     "name": "stdout",
     "output_type": "stream",
     "text": [
      "Tie-In-Toe Cyan Resigned by Sourabh boman\n",
      "Player [X]---Player 2[O]\n",
      "\n",
      "\n",
      "\n",
      "Please Wait...\n",
      " | | \n",
      "-----\n",
      " | | \n",
      "-----\n",
      " | | \n",
      "Player 1's chance:\n"
     ]
    },
    {
     "name": "stdin",
     "output_type": "stream",
     "text": [
      "Enter the position between [1-9] where you want to mark:  5\n"
     ]
    },
    {
     "name": "stdout",
     "output_type": "stream",
     "text": [
      " | | \n",
      "-----\n",
      " |X| \n",
      "-----\n",
      " | | \n",
      " | | \n",
      "-----\n",
      " |X| \n",
      "-----\n",
      " | | \n",
      "Player 2's chance:\n"
     ]
    },
    {
     "name": "stdin",
     "output_type": "stream",
     "text": [
      "Enter the position between [1-9] where you want to mark:  1\n"
     ]
    },
    {
     "name": "stdout",
     "output_type": "stream",
     "text": [
      "O| | \n",
      "-----\n",
      " |X| \n",
      "-----\n",
      " | | \n",
      "O| | \n",
      "-----\n",
      " |X| \n",
      "-----\n",
      " | | \n",
      "Player 1's chance:\n"
     ]
    },
    {
     "name": "stdin",
     "output_type": "stream",
     "text": [
      "Enter the position between [1-9] where you want to mark:  2\n"
     ]
    },
    {
     "name": "stdout",
     "output_type": "stream",
     "text": [
      "O|X| \n",
      "-----\n",
      " |X| \n",
      "-----\n",
      " | | \n",
      "O|X| \n",
      "-----\n",
      " |X| \n",
      "-----\n",
      " | | \n",
      "Player 2's chance:\n"
     ]
    },
    {
     "name": "stdin",
     "output_type": "stream",
     "text": [
      "Enter the position between [1-9] where you want to mark:  6\n"
     ]
    },
    {
     "name": "stdout",
     "output_type": "stream",
     "text": [
      "O|X| \n",
      "-----\n",
      " |X|O\n",
      "-----\n",
      " | | \n",
      "O|X| \n",
      "-----\n",
      " |X|O\n",
      "-----\n",
      " | | \n",
      "Player 1's chance:\n"
     ]
    },
    {
     "name": "stdin",
     "output_type": "stream",
     "text": [
      "Enter the position between [1-9] where you want to mark:  8\n"
     ]
    },
    {
     "name": "stdout",
     "output_type": "stream",
     "text": [
      "O|X| \n",
      "-----\n",
      " |X|O\n",
      "-----\n",
      " |X| \n",
      "Player 1 Won\n"
     ]
    }
   ],
   "source": [
    "import os\n",
    "import time\n",
    "\n",
    "board = [\" \", \" \", \" \", \" \", \" \", \" \", \" \", \" \", \" \", \" \"]  # Fix: Added 10th element for 1-based indexing\n",
    "player = 1\n",
    "win = 1\n",
    "draw = -1\n",
    "running = 0\n",
    "stop = 1\n",
    "game = running\n",
    "mark = 'X'\n",
    "\n",
    "def DrawBoard():\n",
    "    print(\"%c|%c|%c\" % (board[1], board[2], board[3]))\n",
    "    print(\"-----\")\n",
    "    print(\"%c|%c|%c\" % (board[4], board[5], board[6]))\n",
    "    print(\"-----\")\n",
    "    print(\"%c|%c|%c\" % (board[7], board[8], board[9]))\n",
    "\n",
    "def CheckPosition(x):\n",
    "    if board[x] == \" \":\n",
    "        return True\n",
    "    else:\n",
    "        return False\n",
    "\n",
    "def CheckWin():\n",
    "    global game\n",
    "    if board[1] == board[2] and board[2] == board[3] and board[1] != \" \":\n",
    "        game = win\n",
    "    elif board[4] == board[5] and board[5] == board[6] and board[4] != \" \":\n",
    "        game = win\n",
    "    elif board[7] == board[8] and board[8] == board[9] and board[7] != \" \":\n",
    "        game = win\n",
    "    elif board[1] == board[4] and board[4] == board[7] and board[1] != \" \":\n",
    "        game = win\n",
    "    elif board[2] == board[5] and board[5] == board[8] and board[2] != \" \":\n",
    "        game = win\n",
    "    elif board[3] == board[6] and board[6] == board[9] and board[3] != \" \":\n",
    "        game = win\n",
    "    elif board[1] == board[5] and board[5] == board[9] and board[1] != \" \":\n",
    "        game = win\n",
    "    elif board[3] == board[5] and board[5] == board[7] and board[3] != \" \":\n",
    "        game = win\n",
    "    elif board[1] != \" \" and board[2] != \" \" and board[3] != \" \" and board[4] != \" \" and board[5] != \" \" and board[6] != \" \" and board[7] != \" \" and board[8] != \" \" and board[9] != \" \":\n",
    "        game = draw\n",
    "    else:\n",
    "        game = running\n",
    "\n",
    "print(\"Tie-In-Toe Cyan Resigned by Sourabh boman\")\n",
    "print(\"Player 1[X]---Player 2[O]\\n\")\n",
    "print()\n",
    "print()\n",
    "print(\"Please Wait...\")\n",
    "time.sleep(3)\n",
    "\n",
    "while game == running:\n",
    "    os.system('cls' if os.name == 'nt' else 'clear')\n",
    "\n",
    "    DrawBoard()\n",
    "    if player % 2 != 0:\n",
    "        print(\"Player 1's chance:\")\n",
    "        Mark = 'X'\n",
    "    else:\n",
    "        print(\"Player 2's chance:\")\n",
    "        Mark = 'O'  # Fixed: Changed '0' to 'O'\n",
    "    choice = int(input('Enter the position between [1-9] where you want to mark: '))\n",
    "    if CheckPosition(choice):\n",
    "        board[choice] = Mark\n",
    "        player += 1\n",
    "        CheckWin()\n",
    "        os.system('cls' if os.name == 'nt' else 'clear')\n",
    "        DrawBoard()\n",
    "    if game == draw:\n",
    "        print(\"Game Draw\")\n",
    "        break\n",
    "    elif game == win:\n",
    "        player -= 1\n",
    "        if player % 2 != 0:\n",
    "            print(\"Player 1 Won\")\n",
    "        else:\n",
    "            print(\"Player 2 Won\")\n",
    "        break"
   ]
  },
  {
   "cell_type": "code",
   "execution_count": 7,
   "id": "884625c5-10f4-4bde-9a34-da7409cb9c75",
   "metadata": {},
   "outputs": [
    {
     "name": "stdout",
     "output_type": "stream",
     "text": [
      "Tie-In-Toe Cyan Resigned by Sourabh boman\n",
      "Player [X]---Player 2[O]\n",
      "\n",
      "\n",
      "\n",
      "Please Wait...\n",
      " | | \n",
      "-----\n",
      " | | \n",
      "-----\n",
      " | | \n",
      "Player 1's chance:\n"
     ]
    },
    {
     "name": "stdin",
     "output_type": "stream",
     "text": [
      "Enter the position between [1-9] where you want to mark:  1\n"
     ]
    },
    {
     "name": "stdout",
     "output_type": "stream",
     "text": [
      "X| | \n",
      "-----\n",
      " | | \n",
      "-----\n",
      " | | \n",
      "X| | \n",
      "-----\n",
      " | | \n",
      "-----\n",
      " | | \n",
      "Player 2's chance:\n"
     ]
    },
    {
     "name": "stdin",
     "output_type": "stream",
     "text": [
      "Enter the position between [1-9] where you want to mark:  2\n"
     ]
    },
    {
     "name": "stdout",
     "output_type": "stream",
     "text": [
      "X|O| \n",
      "-----\n",
      " | | \n",
      "-----\n",
      " | | \n",
      "X|O| \n",
      "-----\n",
      " | | \n",
      "-----\n",
      " | | \n",
      "Player 1's chance:\n"
     ]
    },
    {
     "name": "stdin",
     "output_type": "stream",
     "text": [
      "Enter the position between [1-9] where you want to mark:  3\n"
     ]
    },
    {
     "name": "stdout",
     "output_type": "stream",
     "text": [
      "X|O|X\n",
      "-----\n",
      " | | \n",
      "-----\n",
      " | | \n",
      "X|O|X\n",
      "-----\n",
      " | | \n",
      "-----\n",
      " | | \n",
      "Player 2's chance:\n"
     ]
    },
    {
     "name": "stdin",
     "output_type": "stream",
     "text": [
      "Enter the position between [1-9] where you want to mark:  4\n"
     ]
    },
    {
     "name": "stdout",
     "output_type": "stream",
     "text": [
      "X|O|X\n",
      "-----\n",
      "O| | \n",
      "-----\n",
      " | | \n",
      "X|O|X\n",
      "-----\n",
      "O| | \n",
      "-----\n",
      " | | \n",
      "Player 1's chance:\n"
     ]
    },
    {
     "name": "stdin",
     "output_type": "stream",
     "text": [
      "Enter the position between [1-9] where you want to mark:  5\n"
     ]
    },
    {
     "name": "stdout",
     "output_type": "stream",
     "text": [
      "X|O|X\n",
      "-----\n",
      "O|X| \n",
      "-----\n",
      " | | \n",
      "X|O|X\n",
      "-----\n",
      "O|X| \n",
      "-----\n",
      " | | \n",
      "Player 2's chance:\n"
     ]
    },
    {
     "name": "stdin",
     "output_type": "stream",
     "text": [
      "Enter the position between [1-9] where you want to mark:  9\n"
     ]
    },
    {
     "name": "stdout",
     "output_type": "stream",
     "text": [
      "X|O|X\n",
      "-----\n",
      "O|X| \n",
      "-----\n",
      " | |O\n",
      "X|O|X\n",
      "-----\n",
      "O|X| \n",
      "-----\n",
      " | |O\n",
      "Player 1's chance:\n"
     ]
    },
    {
     "name": "stdin",
     "output_type": "stream",
     "text": [
      "Enter the position between [1-9] where you want to mark:  6\n"
     ]
    },
    {
     "name": "stdout",
     "output_type": "stream",
     "text": [
      "X|O|X\n",
      "-----\n",
      "O|X|X\n",
      "-----\n",
      " | |O\n",
      "X|O|X\n",
      "-----\n",
      "O|X|X\n",
      "-----\n",
      " | |O\n",
      "Player 2's chance:\n"
     ]
    },
    {
     "name": "stdin",
     "output_type": "stream",
     "text": [
      "Enter the position between [1-9] where you want to mark:  7\n"
     ]
    },
    {
     "name": "stdout",
     "output_type": "stream",
     "text": [
      "X|O|X\n",
      "-----\n",
      "O|X|X\n",
      "-----\n",
      "O| |O\n",
      "X|O|X\n",
      "-----\n",
      "O|X|X\n",
      "-----\n",
      "O| |O\n",
      "Player 1's chance:\n"
     ]
    },
    {
     "name": "stdin",
     "output_type": "stream",
     "text": [
      "Enter the position between [1-9] where you want to mark:  8\n"
     ]
    },
    {
     "name": "stdout",
     "output_type": "stream",
     "text": [
      "X|O|X\n",
      "-----\n",
      "O|X|X\n",
      "-----\n",
      "O|X|O\n",
      "Game Draw\n"
     ]
    }
   ],
   "source": [
    "import os\n",
    "import time\n",
    "\n",
    "board = [\" \", \" \", \" \", \" \", \" \", \" \", \" \", \" \", \" \", \" \"]  # Fix: Added 10th element for 1-based indexing\n",
    "player = 1\n",
    "win = 1\n",
    "draw = -1\n",
    "running = 0\n",
    "stop = 1\n",
    "game = running\n",
    "mark = 'X'\n",
    "\n",
    "def DrawBoard():\n",
    "    print(\"%c|%c|%c\" % (board[1], board[2], board[3]))\n",
    "    print(\"-----\")\n",
    "    print(\"%c|%c|%c\" % (board[4], board[5], board[6]))\n",
    "    print(\"-----\")\n",
    "    print(\"%c|%c|%c\" % (board[7], board[8], board[9]))\n",
    "\n",
    "def CheckPosition(x):\n",
    "    if board[x] == \" \":\n",
    "        return True\n",
    "    else:\n",
    "        return False\n",
    "\n",
    "def CheckWin():\n",
    "    global game\n",
    "    if board[1] == board[2] and board[2] == board[3] and board[1] != \" \":\n",
    "        game = win\n",
    "    elif board[4] == board[5] and board[5] == board[6] and board[4] != \" \":\n",
    "        game = win\n",
    "    elif board[7] == board[8] and board[8] == board[9] and board[7] != \" \":\n",
    "        game = win\n",
    "    elif board[1] == board[4] and board[4] == board[7] and board[1] != \" \":\n",
    "        game = win\n",
    "    elif board[2] == board[5] and board[5] == board[8] and board[2] != \" \":\n",
    "        game = win\n",
    "    elif board[3] == board[6] and board[6] == board[9] and board[3] != \" \":\n",
    "        game = win\n",
    "    elif board[1] == board[5] and board[5] == board[9] and board[1] != \" \":\n",
    "        game = win\n",
    "    elif board[3] == board[5] and board[5] == board[7] and board[3] != \" \":\n",
    "        game = win\n",
    "    elif board[1] != \" \" and board[2] != \" \" and board[3] != \" \" and board[4] != \" \" and board[5] != \" \" and board[6] != \" \" and board[7] != \" \" and board[8] != \" \" and board[9] != \" \":\n",
    "        game = draw\n",
    "    else:\n",
    "        game = running\n",
    "\n",
    "print(\"Tie-In-Toe Cyan Resigned by Sourabh boman\")\n",
    "print(\"Player [X]---Player 2[O]\\n\")\n",
    "print()\n",
    "print()\n",
    "print(\"Please Wait...\")\n",
    "time.sleep(3)\n",
    "\n",
    "while game == running:\n",
    "    os.system('cls' if os.name == 'nt' else 'clear')\n",
    "\n",
    "    DrawBoard()\n",
    "    if player % 2 != 0:\n",
    "        print(\"Player 1's chance:\")\n",
    "        Mark = 'X'\n",
    "    else:\n",
    "        print(\"Player 2's chance:\")\n",
    "        Mark = 'O'  \n",
    "    choice = int(input('Enter the position between [1-9] where you want to mark: '))\n",
    "    if CheckPosition(choice):\n",
    "        board[choice] = Mark\n",
    "        player += 1\n",
    "        CheckWin()\n",
    "        os.system('cls' if os.name == 'nt' else 'clear')\n",
    "        DrawBoard()\n",
    "    if game == draw:\n",
    "        print(\"Game Draw\")\n",
    "        break\n",
    "    elif game == win:\n",
    "        player -= 1\n",
    "        if player % 2 != 0:\n",
    "            print(\"Player 1 Won\")\n",
    "        else:\n",
    "            print(\"Player 2 Won\")\n",
    "        break"
   ]
  },
  {
   "cell_type": "code",
   "execution_count": null,
   "id": "3cd07b66-a8f5-46e5-81f4-84b280d19c0a",
   "metadata": {},
   "outputs": [],
   "source": []
  }
 ],
 "metadata": {
  "kernelspec": {
   "display_name": "Python 3 (ipykernel)",
   "language": "python",
   "name": "python3"
  },
  "language_info": {
   "codemirror_mode": {
    "name": "ipython",
    "version": 3
   },
   "file_extension": ".py",
   "mimetype": "text/x-python",
   "name": "python",
   "nbconvert_exporter": "python",
   "pygments_lexer": "ipython3",
   "version": "3.8.20"
  }
 },
 "nbformat": 4,
 "nbformat_minor": 5
}
