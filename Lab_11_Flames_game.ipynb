{
 "cells": [
  {
   "cell_type": "code",
   "execution_count": 31,
   "id": "ba7a0954-1f25-4390-a98b-df637d242c99",
   "metadata": {},
   "outputs": [
    {
     "name": "stdin",
     "output_type": "stream",
     "text": [
      "Enter the first name:  Rajesh\n",
      "Enter the second name:  Aditi\n"
     ]
    },
    {
     "name": "stdout",
     "output_type": "stream",
     "text": [
      "The relationship is: Enemies\n"
     ]
    }
   ],
   "source": [
    "def remove_common_characters(name1, name2):\n",
    "    for character in name1[:]:\n",
    "        if character in name2:\n",
    "            name1 = name1.replace(character, \"\", 1)\n",
    "            name2 = name2.replace(character, \"\", 1)\n",
    "    return name1 + name2\n",
    "\n",
    "def predict_relationship(remaining_characters):\n",
    "    flames = ['F', 'L', 'A', 'M', 'E', 'S']\n",
    "    while len(flames) > 1:\n",
    "        index = remaining_characters % len(flames) - 1\n",
    "        if index >= 0:\n",
    "            flames = flames[index + 1:] + flames[:index]\n",
    "        else:\n",
    "            flames = flames[:len(flames) - 1]\n",
    "    return flames[0]\n",
    "\n",
    "name1 = input(\"Enter the first name: \").lower().replace(\" \", \"\")\n",
    "name2 = input(\"Enter the second name: \").lower().replace(\" \", \"\")\n",
    "\n",
    "unique_characters = remove_common_characters(name1, name2)\n",
    "remaining_characters_count = len(unique_characters)\n",
    "\n",
    "relationship_char = predict_relationship(remaining_characters_count)\n",
    "\n",
    "relationship_dict = {\n",
    "    'F': 'Friends',\n",
    "    'L': 'Love',\n",
    "    'A': 'Affection',\n",
    "    'M': 'Marriage',\n",
    "    'E': 'Enemies',\n",
    "    'S': 'Siblings'\n",
    "}\n",
    "\n",
    "print(\"The relationship is:\", relationship_dict[relationship_char])"
   ]
  },
  {
   "cell_type": "code",
   "execution_count": null,
   "id": "b93378f0-21b1-4afc-ba69-f6faa7f2e5c5",
   "metadata": {},
   "outputs": [],
   "source": []
  }
 ],
 "metadata": {
  "kernelspec": {
   "display_name": "Python 3 (ipykernel)",
   "language": "python",
   "name": "python3"
  },
  "language_info": {
   "codemirror_mode": {
    "name": "ipython",
    "version": 3
   },
   "file_extension": ".py",
   "mimetype": "text/x-python",
   "name": "python",
   "nbconvert_exporter": "python",
   "pygments_lexer": "ipython3",
   "version": "3.8.20"
  }
 },
 "nbformat": 4,
 "nbformat_minor": 5
}
