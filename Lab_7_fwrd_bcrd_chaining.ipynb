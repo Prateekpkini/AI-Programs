{
 "cells": [
  {
   "cell_type": "code",
   "execution_count": 1,
   "id": "ffedde05",
   "metadata": {},
   "outputs": [
    {
     "name": "stdout",
     "output_type": "stream",
     "text": [
      "The cat is classified as a mammal.\n",
      "The pigeon is classified as a bird.\n"
     ]
    }
   ],
   "source": [
    "def forward_chaining(rules, facts, goal):\n",
    "    inferred_facts = set(facts)\n",
    "    new_facts = True\n",
    "    while new_facts:\n",
    "        new_facts = False\n",
    "        for rule in rules:\n",
    "            condition, result = rule\n",
    "            if all(cond in inferred_facts for cond in condition) and result not in inferred_facts:\n",
    "                inferred_facts.add(result)\n",
    "                new_facts = True\n",
    "                if result == goal:\n",
    "                    return True\n",
    "    return False\n",
    "\n",
    "def backward_chaining(rules, facts, goal):\n",
    "    def ask(query):\n",
    "        if query in facts:\n",
    "            return True\n",
    "        for rule in rules:\n",
    "            condition, result = rule\n",
    "            if result == query and all(ask(cond) for cond in condition):\n",
    "                return True\n",
    "        return False\n",
    "    return ask(goal)\n",
    "\n",
    "# Define rules and facts\n",
    "rules = [\n",
    "    (['hair', 'live young'], 'mammal'),\n",
    "    (['feathers', 'fly'], 'bird')\n",
    "]\n",
    "\n",
    "facts = ['hair', 'live young']\n",
    "goal = 'mammal'\n",
    "\n",
    "# Use forward chaining to determine if a cat is classified as a mammal\n",
    "is_mammal = forward_chaining(rules, facts, goal)\n",
    "if is_mammal:\n",
    "    print(\"The cat is classified as a mammal.\")\n",
    "else:\n",
    "    print(\"The cat is not classified as a mammal.\")\n",
    "\n",
    "facts = ['feathers', 'fly']\n",
    "goal = 'bird'\n",
    "\n",
    "# Use backward chaining to determine if a pigeon is classified as a bird\n",
    "is_bird = backward_chaining(rules, facts, goal)\n",
    "if is_bird:\n",
    "    print(\"The pigeon is classified as a bird.\")\n",
    "else:\n",
    "    print(\"The pigeon is not classified as a bird.\")\n"
   ]
  },
  {
   "cell_type": "code",
   "execution_count": null,
   "id": "313d55b3",
   "metadata": {},
   "outputs": [],
   "source": []
  }
 ],
 "metadata": {
  "kernelspec": {
   "display_name": "base",
   "language": "python",
   "name": "python3"
  },
  "language_info": {
   "codemirror_mode": {
    "name": "ipython",
    "version": 3
   },
   "file_extension": ".py",
   "mimetype": "text/x-python",
   "name": "python",
   "nbconvert_exporter": "python",
   "pygments_lexer": "ipython3",
   "version": "3.8.20"
  }
 },
 "nbformat": 4,
 "nbformat_minor": 5
}
